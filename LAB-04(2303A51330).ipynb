{
  "nbformat": 4,
  "nbformat_minor": 0,
  "metadata": {
    "colab": {
      "provenance": [],
      "authorship_tag": "ABX9TyM6xufQSR1Qa7zz7hH7QwHj",
      "include_colab_link": true
    },
    "kernelspec": {
      "name": "python3",
      "display_name": "Python 3"
    },
    "language_info": {
      "name": "python"
    }
  },
  "cells": [
    {
      "cell_type": "markdown",
      "metadata": {
        "id": "view-in-github",
        "colab_type": "text"
      },
      "source": [
        "<a href=\"https://colab.research.google.com/github/Akshitha1330/B20_1330/blob/main/LAB-04(2303A51330).ipynb\" target=\"_parent\"><img src=\"https://colab.research.google.com/assets/colab-badge.svg\" alt=\"Open In Colab\"/></a>"
      ]
    },
    {
      "cell_type": "code",
      "execution_count": 2,
      "metadata": {
        "colab": {
          "base_uri": "https://localhost:8080/"
        },
        "id": "hWDpztYCZoTB",
        "outputId": "6d8242b5-106d-495d-bbe5-80f982fd224f"
      },
      "outputs": [
        {
          "output_type": "stream",
          "name": "stdout",
          "text": [
            "Filtered Feedback:\n",
            "\n",
            "User_ID                  Feedback\n",
            "   U101 Great course very useful!\n",
            "   U104      Learnt a lot thanks!\n",
            "   U109    Hands-on and practical\n",
            "   U111   Very engaging and clear\n"
          ]
        }
      ],
      "source": [
        "import pandas as pd\n",
        "\n",
        "# Load the dataset\n",
        "df = pd.read_csv(\"/content/course_feedback.csv\")\n",
        "\n",
        "# 1. Remove rows with missing Rating\n",
        "df = df.dropna(subset=[\"Rating\"])\n",
        "\n",
        "# 2. Filter feedback for \"Python for Data Science\" with Rating >= 4\n",
        "filtered_df = df[\n",
        "    (df[\"Course_Name\"] == \"Python for Data Science\") &\n",
        "    (df[\"Rating\"] >= 4)\n",
        "]\n",
        "\n",
        "# 3. Display feedbacks and usernames\n",
        "result = filtered_df[[\"User_ID\", \"Feedback\"]]\n",
        "\n",
        "# Show result in console\n",
        "print(\"Filtered Feedback:\\n\")\n",
        "print(result.to_string(index=False))"
      ]
    },
    {
      "cell_type": "code",
      "source": [
        "import pandas as pd\n",
        "\n",
        "# Load dataset\n",
        "df = pd.read_csv(\"/content/air_quality.csv\")\n",
        "\n",
        "# 1. Fill missing pollutant values using forward fill\n",
        "df = df.fillna(method=\"ffill\")\n",
        "\n",
        "# 2. Filter polluted day records (PM2.5 > 150 and NO2 > 80)\n",
        "polluted_days = df[(df[\"PM2.5\"] > 150) & (df[\"NO2\"] > 80)]\n",
        "\n",
        "# 3. Display results\n",
        "print(\"⚠️ Polluted Day Records:\\n\")\n",
        "print(polluted_days.to_string(index=False))\n",
        "\n",
        "# (Optional) Save filtered results to a new CSV file\n",
        "polluted_days.to_csv(\"polluted_days.csv\", index=False)\n",
        "print(\"\\nFiltered records saved to polluted_days.csv\")"
      ],
      "metadata": {
        "colab": {
          "base_uri": "https://localhost:8080/"
        },
        "id": "yn9Wx4sJaRJ0",
        "outputId": "4093cb6f-acef-4f4c-fcae-fa8278d63ced"
      },
      "execution_count": 3,
      "outputs": [
        {
          "output_type": "stream",
          "name": "stdout",
          "text": [
            "⚠️ Polluted Day Records:\n",
            "\n",
            " Location  PM2.5  PM10  NO2  SO2       Date\n",
            "    Delhi  160.0   300   85   25 2025-08-01\n",
            "  Chennai  155.0   250   82   18 2025-08-02\n",
            "  Kolkata  155.0   280   90   22 2025-08-02\n",
            "Hyderabad  170.0   310   95   28 2025-08-03\n",
            "\n",
            "Filtered records saved to polluted_days.csv\n"
          ]
        },
        {
          "output_type": "stream",
          "name": "stderr",
          "text": [
            "/tmp/ipython-input-1456467690.py:7: FutureWarning: DataFrame.fillna with 'method' is deprecated and will raise in a future version. Use obj.ffill() or obj.bfill() instead.\n",
            "  df = df.fillna(method=\"ffill\")\n"
          ]
        }
      ]
    }
  ]
}