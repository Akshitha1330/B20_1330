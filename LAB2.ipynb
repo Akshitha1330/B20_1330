{
  "nbformat": 4,
  "nbformat_minor": 0,
  "metadata": {
    "colab": {
      "provenance": [],
      "authorship_tag": "ABX9TyNBGSK58oczLjIB1j2HoAsy",
      "include_colab_link": true
    },
    "kernelspec": {
      "name": "python3",
      "display_name": "Python 3"
    },
    "language_info": {
      "name": "python"
    }
  },
  "cells": [
    {
      "cell_type": "markdown",
      "metadata": {
        "id": "view-in-github",
        "colab_type": "text"
      },
      "source": [
        "<a href=\"https://colab.research.google.com/github/Akshitha1330/B20_1330/blob/main/LAB2.ipynb\" target=\"_parent\"><img src=\"https://colab.research.google.com/assets/colab-badge.svg\" alt=\"Open In Colab\"/></a>"
      ]
    },
    {
      "cell_type": "code",
      "execution_count": 1,
      "metadata": {
        "colab": {
          "base_uri": "https://localhost:8080/"
        },
        "id": "jhgD4GYZxavd",
        "outputId": "7e0e40db-aa18-43fa-d19f-b7454ed7a5dd"
      },
      "outputs": [
        {
          "output_type": "stream",
          "name": "stdout",
          "text": [
            "<class 'int'> 10\n",
            "<class 'float'> 99.9\n",
            "<class 'str'> cse\n"
          ]
        }
      ],
      "source": [
        "l=[10,99.9,'cse']\n",
        "for i in l:\n",
        "  print(type(i),i)"
      ]
    },
    {
      "cell_type": "code",
      "source": [
        "l=[10,20,10,20,10,20]\n",
        "print(l)"
      ],
      "metadata": {
        "colab": {
          "base_uri": "https://localhost:8080/"
        },
        "id": "XljFsOZL3qMc",
        "outputId": "9a809dda-2ba3-4a19-952e-5e2c6ae3bf7b"
      },
      "execution_count": 3,
      "outputs": [
        {
          "output_type": "stream",
          "name": "stdout",
          "text": [
            "[10, 20, 10, 20, 10, 20]\n"
          ]
        }
      ]
    },
    {
      "cell_type": "code",
      "source": [
        "l=[10,20,30,40]\n",
        "l.append(50)\n",
        "print(l)\n",
        "l.pop()\n",
        "print(l)\n",
        "l.remove(30)\n",
        "print(l)\n",
        "l.insert(2,100)\n",
        "print(l)\n",
        "l.reverse()\n",
        "print(l)\n",
        "l.sort()\n",
        "print(sum(l))\n",
        "print(min(l))\n",
        "print(max(l))\n",
        "print(l)"
      ],
      "metadata": {
        "colab": {
          "base_uri": "https://localhost:8080/"
        },
        "id": "uTe71pKp339t",
        "outputId": "171ef5b6-9de9-4397-d376-208a8f10e5c8"
      },
      "execution_count": 10,
      "outputs": [
        {
          "output_type": "stream",
          "name": "stdout",
          "text": [
            "[10, 20, 30, 40, 50]\n",
            "[10, 20, 30, 40]\n",
            "[10, 20, 40]\n",
            "[10, 20, 100, 40]\n",
            "[40, 100, 20, 10]\n",
            "170\n",
            "10\n",
            "100\n",
            "[10, 20, 40, 100]\n"
          ]
        }
      ]
    },
    {
      "cell_type": "code",
      "source": [
        "student=[[10,20],[30,40],[50,60],[70,80]]\n",
        "print(student)"
      ],
      "metadata": {
        "colab": {
          "base_uri": "https://localhost:8080/"
        },
        "id": "MsOwiRLa41cx",
        "outputId": "6de7cdbb-ec45-4dc3-c5e9-4bd253fc0564"
      },
      "execution_count": 11,
      "outputs": [
        {
          "output_type": "stream",
          "name": "stdout",
          "text": [
            "[[10, 20], [30, 40], [50, 60], [70, 80]]\n"
          ]
        }
      ]
    },
    {
      "cell_type": "code",
      "source": [
        "student=[[10,20],[30,40],[50,60],[70,80]]\n",
        "print(student)"
      ],
      "metadata": {
        "colab": {
          "base_uri": "https://localhost:8080/"
        },
        "id": "ZtRiNm6-6rU4",
        "outputId": "39d05186-ec25-4212-ee32-d358239f8b95"
      },
      "execution_count": 14,
      "outputs": [
        {
          "output_type": "stream",
          "name": "stdout",
          "text": [
            "[[10, 20], [30, 40], [50, 60], [70, 80]]\n"
          ]
        }
      ]
    },
    {
      "cell_type": "code",
      "source": [
        "t=(10,20,30,40)\n",
        "print(t)\n",
        "t=(10,20,30,10,20)\n",
        "print(t)\n",
        "t=(10,99.9,'cse')\n",
        "for i in t:\n",
        "  print(type(i),i)"
      ],
      "metadata": {
        "colab": {
          "base_uri": "https://localhost:8080/"
        },
        "id": "0unSLYrr7LCP",
        "outputId": "85d8d664-523e-4010-94d3-b9724f77e633"
      },
      "execution_count": 16,
      "outputs": [
        {
          "output_type": "stream",
          "name": "stdout",
          "text": [
            "(10, 20, 30, 40)\n",
            "(10, 20, 30, 10, 20)\n",
            "<class 'int'> 10\n",
            "<class 'float'> 99.9\n",
            "<class 'str'> cse\n",
            "not found\n"
          ]
        }
      ]
    },
    {
      "cell_type": "code",
      "source": [
        "t=(10,20,30,40)\n",
        "if 20 in t:\n",
        "  print('found')\n",
        "else:\n",
        "  print('not found')"
      ],
      "metadata": {
        "colab": {
          "base_uri": "https://localhost:8080/"
        },
        "id": "nFdH1OL97t2O",
        "outputId": "1a168e88-892a-4d18-b69f-0f0cc4307afc"
      },
      "execution_count": 17,
      "outputs": [
        {
          "output_type": "stream",
          "name": "stdout",
          "text": [
            "found\n"
          ]
        }
      ]
    },
    {
      "cell_type": "code",
      "source": [
        "t=(1,2,3,2,3,2,4)\n",
        "print(t.count(2))\n",
        "print(t.index(4))"
      ],
      "metadata": {
        "colab": {
          "base_uri": "https://localhost:8080/"
        },
        "id": "5vJiE4c38RLM",
        "outputId": "81eec53a-4fbb-4fdb-a2c4-dc260cff4353"
      },
      "execution_count": 19,
      "outputs": [
        {
          "output_type": "stream",
          "name": "stdout",
          "text": [
            "3\n",
            "6\n"
          ]
        }
      ]
    },
    {
      "cell_type": "code",
      "source": [
        "l=[10,20,30,40]\n",
        "my_tuple=tuple(l)\n",
        "print(my_tuple)\n",
        "\n",
        "s=((10,20),(100,50))\n",
        "print(s)"
      ],
      "metadata": {
        "colab": {
          "base_uri": "https://localhost:8080/"
        },
        "id": "jSbolZuy87Ah",
        "outputId": "c3c2263a-959e-409c-aaec-186c71e253d4"
      },
      "execution_count": 22,
      "outputs": [
        {
          "output_type": "stream",
          "name": "stdout",
          "text": [
            "(10, 20, 30, 40)\n",
            "((10, 20), (100, 50))\n"
          ]
        }
      ]
    },
    {
      "cell_type": "code",
      "source": [
        "student={\"name\":\"python\",\"id\":\"101\",\"branch\":\"cse\"}\n",
        "print(student.keys())\n",
        "print(student.values())\n",
        "print(student.items())\n",
        "for key,value in student.items():\n",
        "    print(key,value)\n",
        "\n",
        "student[\"college\"]=\"sru\"\n",
        "print(student)\n",
        "student[\"specialisation\"]=\"AIML\"\n",
        "print(student)\n",
        "del student[\"specialisation\"]\n",
        "print(student)\n",
        "\n",
        "\n",
        "student1={101:{\"name\":\"c\",\"id\":\"1\"},\"102\":{\"name\":\"python\",\"id\":\"2\"}}\n",
        "print(student1)\n",
        "print(student1[101])\n",
        "print(student1[101][\"name\"])\n"
      ],
      "metadata": {
        "colab": {
          "base_uri": "https://localhost:8080/"
        },
        "id": "4dt_XcH6AcbA",
        "outputId": "d69ff343-18bf-4290-e19a-f2f40001222f"
      },
      "execution_count": 32,
      "outputs": [
        {
          "output_type": "stream",
          "name": "stdout",
          "text": [
            "dict_keys(['name', 'id', 'branch'])\n",
            "dict_values(['python', '101', 'cse'])\n",
            "dict_items([('name', 'python'), ('id', '101'), ('branch', 'cse')])\n",
            "name python\n",
            "id 101\n",
            "branch cse\n",
            "{'name': 'python', 'id': '101', 'branch': 'cse', 'college': 'sru'}\n",
            "{'name': 'python', 'id': '101', 'branch': 'cse', 'college': 'sru', 'specialisation': 'AIML'}\n",
            "{'name': 'python', 'id': '101', 'branch': 'cse', 'college': 'sru'}\n",
            "{101: {'name': 'c', 'id': '1'}, '102': {'name': 'python', 'id': '2'}}\n",
            "{'name': 'c', 'id': '1'}\n",
            "c\n"
          ]
        }
      ]
    },
    {
      "cell_type": "code",
      "source": [
        "print(\"10\\t20\\n30\\t40\\n50\\t60\")"
      ],
      "metadata": {
        "colab": {
          "base_uri": "https://localhost:8080/"
        },
        "id": "Ajqjno3IDA-I",
        "outputId": "2f504cf9-fdcd-44d1-fdbb-fb8be53a891a"
      },
      "execution_count": 28,
      "outputs": [
        {
          "output_type": "stream",
          "name": "stdout",
          "text": [
            "10\t20\n",
            "30\t40\n",
            "50\t60\n"
          ]
        }
      ]
    },
    {
      "cell_type": "code",
      "source": [
        "l=[[10,20],[30,40],[50,60]]\n",
        "for i in l:\n",
        "  print(*i)"
      ],
      "metadata": {
        "colab": {
          "base_uri": "https://localhost:8080/"
        },
        "id": "shAub256DXRp",
        "outputId": "b678a3d9-2fbc-4bf5-ab17-9ea60cbf9feb"
      },
      "execution_count": 30,
      "outputs": [
        {
          "output_type": "stream",
          "name": "stdout",
          "text": [
            "10 20\n",
            "30 40\n",
            "50 60\n"
          ]
        }
      ]
    },
    {
      "cell_type": "code",
      "source": [
        "l=[[10,20],[30,40],[50,60]]\n",
        "for i in l:\n",
        "  print(i)"
      ],
      "metadata": {
        "colab": {
          "base_uri": "https://localhost:8080/"
        },
        "id": "kK7CsWNqDlay",
        "outputId": "16423168-6c45-430f-ce08-4e704db6580d"
      },
      "execution_count": 33,
      "outputs": [
        {
          "output_type": "stream",
          "name": "stdout",
          "text": [
            "[10, 20]\n",
            "[30, 40]\n",
            "[50, 60]\n"
          ]
        }
      ]
    },
    {
      "cell_type": "code",
      "source": [
        "s={1,2,3,4}\n",
        "print(s)\n",
        "s={1,2,3,4,1,2,3,4}\n",
        "print(s)\n",
        "for i in s:\n",
        "  print(i)\n",
        "if 2 in s:\n",
        "  print(\"f\");\n",
        "else:\n",
        "  print(\"nf\")"
      ],
      "metadata": {
        "colab": {
          "base_uri": "https://localhost:8080/"
        },
        "id": "KUAO40DcFJgG",
        "outputId": "e63eea92-805a-430f-b43f-ae34ce533c15"
      },
      "execution_count": 37,
      "outputs": [
        {
          "output_type": "stream",
          "name": "stdout",
          "text": [
            "{1, 2, 3, 4}\n",
            "{1, 2, 3, 4}\n",
            "1\n",
            "2\n",
            "3\n",
            "4\n",
            "f\n"
          ]
        }
      ]
    },
    {
      "cell_type": "code",
      "source": [
        "a={1,2,3,4}\n",
        "b={3,4,5,6}\n",
        "print(a.union(b))\n",
        "print(a.intersection(b))\n",
        "print(a.difference(b))\n",
        "print(b.difference(a))\n",
        "print(\"union\",a|b)\n",
        "print(\"intersection\",a&b)\n",
        "print(\"difference\",a-b)\n",
        "print(\"difference\",b-a)\n",
        "print(a.symmetric_difference(b))\n",
        "print(\"symmetric_difference\",a^b)"
      ],
      "metadata": {
        "colab": {
          "base_uri": "https://localhost:8080/"
        },
        "id": "5aW9Ai2EGrEX",
        "outputId": "4ce7a8ca-3cf4-40ff-d0ad-965b0fb9493c"
      },
      "execution_count": 43,
      "outputs": [
        {
          "output_type": "stream",
          "name": "stdout",
          "text": [
            "{1, 2, 3, 4, 5, 6}\n",
            "{3, 4}\n",
            "{1, 2}\n",
            "{5, 6}\n",
            "union {1, 2, 3, 4, 5, 6}\n",
            "intersection {3, 4}\n",
            "difference {1, 2}\n",
            "difference {5, 6}\n",
            "{1, 2, 5, 6}\n",
            "symmetric_difference {1, 2, 5, 6}\n"
          ]
        }
      ]
    },
    {
      "cell_type": "code",
      "source": [
        "s={1,2,3}\n",
        "s.add(4)\n",
        "print(s)\n",
        "s.remove(2)\n",
        "print(s)\n",
        "s.clear()\n",
        "print(s)"
      ],
      "metadata": {
        "colab": {
          "base_uri": "https://localhost:8080/"
        },
        "id": "V0Qp2XNHIMzS",
        "outputId": "e276a4d1-e9bf-48ce-ee36-8277ac9a019a"
      },
      "execution_count": 44,
      "outputs": [
        {
          "output_type": "stream",
          "name": "stdout",
          "text": [
            "{1, 2, 3, 4}\n",
            "{1, 3, 4}\n",
            "set()\n"
          ]
        }
      ]
    },
    {
      "cell_type": "code",
      "source": [
        "import numpy as np\n",
        "marks = np.array([[85, 78, 92], [70, 65, 80],  [90, 88, 94],  [60, 75, 70],  [95, 85, 99] ])\n",
        "avg_marks = np.mean(marks)\n",
        "min_marks = np.min(marks)\n",
        "max_marks = np.max(marks)\n",
        "print(avg_marks)\n",
        "print(min_marks)\n",
        "print(max_marks)\n",
        "\n",
        "print(\"Marks of Student 3:\", marks[2])\n",
        "print(\"Marks of Students 2 to 4: \", marks[1:4])\n",
        "\n",
        "excellent= marks >80\n",
        "print(excellent)\n",
        "\n",
        "each_subject = marks.T\n",
        "print(\"EACH SUBJECT MARKS\", each_subject)"
      ],
      "metadata": {
        "colab": {
          "base_uri": "https://localhost:8080/"
        },
        "id": "VjTYDMzPN4jh",
        "outputId": "d42472bb-d7d7-4adc-80fd-49ae41ee3a6e"
      },
      "execution_count": 48,
      "outputs": [
        {
          "output_type": "stream",
          "name": "stdout",
          "text": [
            "81.73333333333333\n",
            "60\n",
            "99\n",
            "Marks of Student 3: [90 88 94]\n",
            "Marks of Students 2 to 4:  [[70 65 80]\n",
            " [90 88 94]\n",
            " [60 75 70]]\n",
            "[[ True False  True]\n",
            " [False False False]\n",
            " [ True  True  True]\n",
            " [False False False]\n",
            " [ True  True  True]]\n",
            "EACH SUBJECT MARKS [[85 70 90 60 95]\n",
            " [78 65 88 75 85]\n",
            " [92 80 94 70 99]]\n"
          ]
        }
      ]
    }
  ]
}