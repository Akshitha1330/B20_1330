{
  "nbformat": 4,
  "nbformat_minor": 0,
  "metadata": {
    "colab": {
      "provenance": [],
      "authorship_tag": "ABX9TyPlGLXvTZ83Sgkg7KGjsk7b",
      "include_colab_link": true
    },
    "kernelspec": {
      "name": "python3",
      "display_name": "Python 3"
    },
    "language_info": {
      "name": "python"
    }
  },
  "cells": [
    {
      "cell_type": "markdown",
      "metadata": {
        "id": "view-in-github",
        "colab_type": "text"
      },
      "source": [
        "<a href=\"https://colab.research.google.com/github/Akshitha1330/B20_1330/blob/main/LAB-04.ipynb\" target=\"_parent\"><img src=\"https://colab.research.google.com/assets/colab-badge.svg\" alt=\"Open In Colab\"/></a>"
      ]
    },
    {
      "cell_type": "code",
      "execution_count": 1,
      "metadata": {
        "colab": {
          "base_uri": "https://localhost:8080/"
        },
        "id": "Vk6X-xF450Ct",
        "outputId": "a9fa49b6-1612-459f-9486-1d32451722ee"
      },
      "outputs": [
        {
          "output_type": "stream",
          "name": "stdout",
          "text": [
            "Pandas Series\n",
            "0    10\n",
            "1    20\n",
            "2    30\n",
            "3    40\n",
            "4    50\n",
            "dtype: int64\n"
          ]
        }
      ],
      "source": [
        "import pandas as pd\n",
        "#creating a series from a list\n",
        "data=[10,20,30,40,50]\n",
        "series=pd.Series(data)\n",
        "print(\"Pandas Series\")\n",
        "print(series)"
      ]
    },
    {
      "cell_type": "code",
      "source": [
        "#series with custom index\n",
        "import pandas as pd\n",
        "data=[10,20,30,40,50]\n",
        "index_labels=['a','b','c','d','e']\n",
        "series=pd.Series(data,index=index_labels)\n",
        "print(series)"
      ],
      "metadata": {
        "colab": {
          "base_uri": "https://localhost:8080/"
        },
        "id": "28MPx4Oq8MoS",
        "outputId": "f2738d1a-a1c5-46df-da2e-9020bbaba6b9"
      },
      "execution_count": 5,
      "outputs": [
        {
          "output_type": "stream",
          "name": "stdout",
          "text": [
            "a    10\n",
            "b    20\n",
            "c    30\n",
            "d    40\n",
            "e    50\n",
            "dtype: int64\n"
          ]
        }
      ]
    },
    {
      "cell_type": "code",
      "source": [
        "import pandas as pd\n",
        "#creating a dataframe\n",
        "data={'Name':[\"cse\",\"aiml\",\"ds\"],'Age':[20,40,22],'City':[\"wgl\",\"hyd\",\"kol\"]}\n",
        "result=pd.DataFrame(data)\n",
        "print(result)"
      ],
      "metadata": {
        "colab": {
          "base_uri": "https://localhost:8080/"
        },
        "id": "py64Uq978xTn",
        "outputId": "2f446fef-4356-43f8-b5a0-f515622af5ed"
      },
      "execution_count": 25,
      "outputs": [
        {
          "output_type": "stream",
          "name": "stdout",
          "text": [
            "   Name  Age City\n",
            "0   cse   20  wgl\n",
            "1  aiml   40  hyd\n",
            "2    ds   22  kol\n"
          ]
        }
      ]
    },
    {
      "cell_type": "code",
      "source": [
        "# Access a single column\n",
        "print(result['Name'])"
      ],
      "metadata": {
        "colab": {
          "base_uri": "https://localhost:8080/"
        },
        "id": "CQoylUTW-oQg",
        "outputId": "794d4438-69a8-417a-ac88-333f79c81da8"
      },
      "execution_count": 26,
      "outputs": [
        {
          "output_type": "stream",
          "name": "stdout",
          "text": [
            "0     cse\n",
            "1    aiml\n",
            "2      ds\n",
            "Name: Name, dtype: object\n"
          ]
        }
      ]
    },
    {
      "cell_type": "code",
      "source": [
        "# Access multiple columns\n",
        "print(result[['Name', 'City']])"
      ],
      "metadata": {
        "colab": {
          "base_uri": "https://localhost:8080/"
        },
        "id": "s6FGpUN1-qs1",
        "outputId": "8c0f22e0-9bf2-4218-f4af-3f724e0a7c26"
      },
      "execution_count": 15,
      "outputs": [
        {
          "output_type": "stream",
          "name": "stdout",
          "text": [
            "   Name City\n",
            "0   cse  wgl\n",
            "1  aiml  hyd\n",
            "2    ds  kol\n"
          ]
        }
      ]
    },
    {
      "cell_type": "code",
      "source": [
        "# Access rows using index\n",
        "print(result.iloc[1]) # row at index 1\n",
        "print(result.loc[2]) # row with label 2"
      ],
      "metadata": {
        "colab": {
          "base_uri": "https://localhost:8080/"
        },
        "id": "qSerpzwr_Cbe",
        "outputId": "2a28902e-91f1-4f02-aae7-39975cfd8949"
      },
      "execution_count": 27,
      "outputs": [
        {
          "output_type": "stream",
          "name": "stdout",
          "text": [
            "Name    aiml\n",
            "Age       40\n",
            "City     hyd\n",
            "Name: 1, dtype: object\n",
            "Name     ds\n",
            "Age      22\n",
            "City    kol\n",
            "Name: 2, dtype: object\n"
          ]
        }
      ]
    },
    {
      "cell_type": "code",
      "source": [
        "# Adding a new column\n",
        "result['Salary'] = [40000,50000,60000]\n",
        "print(result)"
      ],
      "metadata": {
        "colab": {
          "base_uri": "https://localhost:8080/"
        },
        "id": "LKuPZPxF_nzG",
        "outputId": "13f192d8-d5cc-404f-aac0-492816f9befa"
      },
      "execution_count": 28,
      "outputs": [
        {
          "output_type": "stream",
          "name": "stdout",
          "text": [
            "   Name  Age City  Salary\n",
            "0   cse   20  wgl   40000\n",
            "1  aiml   40  hyd   50000\n",
            "2    ds   22  kol   60000\n"
          ]
        }
      ]
    },
    {
      "cell_type": "code",
      "source": [
        "# Removing a column\n",
        "result=result.drop('City', axis=1)\n",
        "print(result)"
      ],
      "metadata": {
        "colab": {
          "base_uri": "https://localhost:8080/"
        },
        "id": "QsV52_hg__nm",
        "outputId": "6bfca192-e468-441d-ca1c-13fb7c047087"
      },
      "execution_count": 29,
      "outputs": [
        {
          "output_type": "stream",
          "name": "stdout",
          "text": [
            "   Name  Age  Salary\n",
            "0   cse   20   40000\n",
            "1  aiml   40   50000\n",
            "2    ds   22   60000\n"
          ]
        }
      ]
    },
    {
      "cell_type": "code",
      "source": [
        "# Filtering Data\n",
        "#select rows where Age > 30\n",
        "print(result[result['Age'] > 30])"
      ],
      "metadata": {
        "colab": {
          "base_uri": "https://localhost:8080/"
        },
        "id": "yUgXzbW2Ay8c",
        "outputId": "4f800faf-2d7a-450b-9d2b-8efda3623ed1"
      },
      "execution_count": 30,
      "outputs": [
        {
          "output_type": "stream",
          "name": "stdout",
          "text": [
            "   Name  Age  Salary\n",
            "1  aiml   40   50000\n"
          ]
        }
      ]
    },
    {
      "cell_type": "code",
      "source": [
        "# Basic Statistics\n",
        "print(result['Age'].mean()) # Average age\n",
        "print(result['Age'].max()) # Maximum age\n",
        "print(result['Age'].min()) # Minimum age\n"
      ],
      "metadata": {
        "colab": {
          "base_uri": "https://localhost:8080/"
        },
        "id": "ZaazoR86BjeN",
        "outputId": "b398fc68-f184-41b8-c7e9-bf83418a8f9f"
      },
      "execution_count": 31,
      "outputs": [
        {
          "output_type": "stream",
          "name": "stdout",
          "text": [
            "27.333333333333332\n",
            "40\n",
            "20\n"
          ]
        }
      ]
    },
    {
      "cell_type": "code",
      "source": [
        "#Real-world example_student data\n",
        "import pandas as pd\n",
        "#creating a DataFrame with student details\n",
        "student_data={'Student_ID':[101,102,103,104],'Name':['Ravi','Neha','Kiran','Sita'],'Marks':[85,90,78,92],'Department':['CSE','ECE','CSE','AIML']}\n",
        "df=pd.DataFrame(student_data)\n",
        "print(df)\n",
        "\n",
        "#display full dataframe\n",
        "print(\"Student Data\")\n",
        "print(df)\n",
        "\n",
        "#Find students with marks > 80\n",
        "print(\"\\nStudents with marks > 80\")\n",
        "print(df[df['Marks']>80])\n",
        "\n",
        "#average marks\n",
        "print(\"\\nAverage Marks\")\n",
        "print(df['Marks'].mean())\n",
        "\n",
        "#Add new column\n",
        "df['Result'] = ['Pass' if x >= 40 else 'Fail' for x in df['Marks']]\n",
        "print(\"\\nWith Result Column:\")\n",
        "print(df)\n"
      ],
      "metadata": {
        "colab": {
          "base_uri": "https://localhost:8080/"
        },
        "id": "J9EMnxs3Cqs-",
        "outputId": "0a2fde79-9890-4e31-9b82-451ad501317f"
      },
      "execution_count": 43,
      "outputs": [
        {
          "output_type": "stream",
          "name": "stdout",
          "text": [
            "   Student_ID   Name  Marks Department\n",
            "0         101   Ravi     85        CSE\n",
            "1         102   Neha     90        ECE\n",
            "2         103  Kiran     78        CSE\n",
            "3         104   Sita     92       AIML\n",
            "Student Data\n",
            "   Student_ID   Name  Marks Department\n",
            "0         101   Ravi     85        CSE\n",
            "1         102   Neha     90        ECE\n",
            "2         103  Kiran     78        CSE\n",
            "3         104   Sita     92       AIML\n",
            "\n",
            "Students with marks > 80\n",
            "   Student_ID  Name  Marks Department\n",
            "0         101  Ravi     85        CSE\n",
            "1         102  Neha     90        ECE\n",
            "3         104  Sita     92       AIML\n",
            "\n",
            "Average Marks\n",
            "86.25\n",
            "\n",
            "With Result Column:\n",
            "   Student_ID   Name  Marks Department Result\n",
            "0         101   Ravi     85        CSE   Pass\n",
            "1         102   Neha     90        ECE   Pass\n",
            "2         103  Kiran     78        CSE   Pass\n",
            "3         104   Sita     92       AIML   Pass\n"
          ]
        }
      ]
    },
    {
      "cell_type": "code",
      "source": [
        "import pandas as pd\n",
        "student_data={'S.Name':['CSE','ECE','CSE','AIML'],'S.Rollno':['1330','1320','1321','1711'],'M1':[85,90,78,92],'M2':[79,94,69,88],'M3':[82,79,91,89]}\n",
        "df=pd.DataFrame(student_data)\n",
        "print(df)\n",
        "\n",
        "df['Total'] = df[['M1','M2','M3']].sum(axis=1)\n",
        "df['Average'] = df[['M1','M2','M3']].mean(axis=1)\n",
        "print(df)"
      ],
      "metadata": {
        "colab": {
          "base_uri": "https://localhost:8080/"
        },
        "id": "7egQ_WTGFJpc",
        "outputId": "185fae23-3bd0-4df8-f100-e2cd1efcb032"
      },
      "execution_count": 48,
      "outputs": [
        {
          "output_type": "stream",
          "name": "stdout",
          "text": [
            "  S.Name S.Rollno  M1  M2  M3\n",
            "0    CSE     1330  85  79  82\n",
            "1    ECE     1320  90  94  79\n",
            "2    CSE     1321  78  69  91\n",
            "3   AIML     1711  92  88  89\n",
            "  S.Name S.Rollno  M1  M2  M3  Total    Average\n",
            "0    CSE     1330  85  79  82    246  82.000000\n",
            "1    ECE     1320  90  94  79    263  87.666667\n",
            "2    CSE     1321  78  69  91    238  79.333333\n",
            "3   AIML     1711  92  88  89    269  89.666667\n"
          ]
        }
      ]
    }
  ]
}