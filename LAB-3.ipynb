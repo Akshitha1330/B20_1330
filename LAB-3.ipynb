{
  "nbformat": 4,
  "nbformat_minor": 0,
  "metadata": {
    "colab": {
      "provenance": [],
      "authorship_tag": "ABX9TyMNUMZhiAfS5AFp96HVUCQE",
      "include_colab_link": true
    },
    "kernelspec": {
      "name": "python3",
      "display_name": "Python 3"
    },
    "language_info": {
      "name": "python"
    }
  },
  "cells": [
    {
      "cell_type": "markdown",
      "metadata": {
        "id": "view-in-github",
        "colab_type": "text"
      },
      "source": [
        "<a href=\"https://colab.research.google.com/github/Akshitha1330/B20_1330/blob/main/LAB-3.ipynb\" target=\"_parent\"><img src=\"https://colab.research.google.com/assets/colab-badge.svg\" alt=\"Open In Colab\"/></a>"
      ]
    },
    {
      "cell_type": "code",
      "execution_count": 5,
      "metadata": {
        "id": "uXU1yHxH3ONU"
      },
      "outputs": [],
      "source": [
        "# writing to a file\n",
        "# open file in write mode\n",
        "fp = open(\"example.txt\", \"w\")\n",
        "\n",
        "#write text to file\n",
        "fp.write(\"Hello\\n\")\n",
        "fp.write(\"this is file handling in python\\n\")\n",
        "fp.write(\"sr university\\n\")\n",
        "fp.write(\"Akshitha\")\n",
        "#close file\n",
        "fp.close()\n",
        "print(\"Data written successfully!\")"
      ]
    },
    {
      "cell_type": "code",
      "source": [
        "#reading a file\n",
        "fp=open(\"example.txt\",\"r\")\n",
        "content=fp.read()\n",
        "print(\"file content:\\n\",content)\n",
        "fp.close()\n",
        "fp.close()"
      ],
      "metadata": {
        "colab": {
          "base_uri": "https://localhost:8080/"
        },
        "id": "yqnmhJye7bz7",
        "outputId": "bba38756-ac94-48a7-8095-59a28fca6a06"
      },
      "execution_count": 7,
      "outputs": [
        {
          "output_type": "stream",
          "name": "stdout",
          "text": [
            "file content:\n",
            " Hello\n",
            "this is file handling in python\n",
            "sr university\n",
            "Akshitha\n",
            "\n"
          ]
        }
      ]
    },
    {
      "cell_type": "code",
      "source": [
        "#reading line by line\n",
        "fp=open(\"example.txt\",\"r\")\n",
        "line1=fp.readline()\n",
        "print(\"first line\",line1)\n",
        "line2=fp.readline()\n",
        "print(\"second line\",line2)\n",
        "line3=fp.readline()\n",
        "print(\"third line\",line3)\n",
        "line4=fp.readline()\n",
        "print(\"fourth line\",line4)\n",
        "fp.close()"
      ],
      "metadata": {
        "colab": {
          "base_uri": "https://localhost:8080/"
        },
        "id": "Ywmqx1GA8nw3",
        "outputId": "869a0fd2-274d-43e1-a472-a1f340806e85"
      },
      "execution_count": 10,
      "outputs": [
        {
          "output_type": "stream",
          "name": "stdout",
          "text": [
            "first line Hello\n",
            "\n",
            "second line this is file handling in python\n",
            "\n",
            "third line sr university\n",
            "\n",
            "fourth line Akshitha\n",
            "\n"
          ]
        }
      ]
    },
    {
      "cell_type": "code",
      "source": [
        "#reading all lines into a list\n",
        "fp=open(\"example.txt\",\"r\")\n",
        "lines=fp.readlines()\n",
        "print(\"list of lines:\\n\",lines)\n",
        "fp.close()"
      ],
      "metadata": {
        "colab": {
          "base_uri": "https://localhost:8080/"
        },
        "id": "DldMz68--tQz",
        "outputId": "8d1a6633-8679-42bc-bedd-b388a1ac7c96"
      },
      "execution_count": 11,
      "outputs": [
        {
          "output_type": "stream",
          "name": "stdout",
          "text": [
            "list of lines:\n",
            " ['Hello\\n', 'this is file handling in python\\n', 'sr university\\n', 'Akshitha\\n']\n"
          ]
        }
      ]
    },
    {
      "cell_type": "code",
      "source": [
        "#appending data to an existing file\n",
        "fp=open(\"example.txt\",\"a\")\n",
        "fp.write(\"third year\\n\")\n",
        "fp.close()"
      ],
      "metadata": {
        "id": "Y_V852IQ_MkI"
      },
      "execution_count": 14,
      "outputs": []
    },
    {
      "cell_type": "code",
      "source": [
        "#using with statement\n",
        "#the with statement automatically closes the file\n",
        "with open(\"example.txt\",\"r\") as fp:\n",
        "    content=fp.read()\n",
        "    print(\"file content:\\n\",content)"
      ],
      "metadata": {
        "colab": {
          "base_uri": "https://localhost:8080/"
        },
        "id": "m2D59K5zAL1D",
        "outputId": "b645ee8d-6646-4a19-8402-b3d5e1eb65d7"
      },
      "execution_count": 15,
      "outputs": [
        {
          "output_type": "stream",
          "name": "stdout",
          "text": [
            "file content:\n",
            " Hello\n",
            "this is file handling in python\n",
            "sr university\n",
            "Akshitha\n",
            "third year\n",
            "third year\n",
            "third year\n",
            "\n"
          ]
        }
      ]
    },
    {
      "cell_type": "code",
      "source": [
        "#writing to csv\n",
        "import csv\n",
        "with open(\"data.csv\",\"w\",newline=\"\") as fp:\n",
        "    writer=csv.writer(fp)\n",
        "    writer.writerows([[\"Name\",\"Age\",\"Course\"],[\"A\",21,\"CSE\"],[\"B\",20,\"ECE\"]])\n",
        "\n",
        "#reading from csv\n",
        "with open(\"data.csv\",\"r\") as fp:\n",
        "    reader=csv.reader(fp)\n",
        "    for row in reader:\n",
        "        print(row)"
      ],
      "metadata": {
        "colab": {
          "base_uri": "https://localhost:8080/"
        },
        "id": "sjW2F6CoBEh3",
        "outputId": "5ffe0a18-0ae1-4560-850a-8142b643fc05"
      },
      "execution_count": 18,
      "outputs": [
        {
          "output_type": "stream",
          "name": "stdout",
          "text": [
            "['Name', 'Age', 'Course']\n",
            "['A', '21', 'CSE']\n",
            "['B', '20', 'ECE']\n"
          ]
        }
      ]
    },
    {
      "cell_type": "code",
      "source": [
        "import numpy as np\n",
        "#1D Array\n",
        "arr1=np.array([1,2,3,4,5])\n",
        "print(\"1D Array:\\n\",arr1)\n",
        "#2D Array\n",
        "arr2=np.array([[1,2,3],[4,5,6]])\n",
        "print(\"2D Array:\\n\",arr2)\n",
        "#Zeros Array\n",
        "zeros_arr=np.zeros((3,4))\n",
        "print(\"zeros Array:\\n\",zeros_arr)\n",
        "#Ones Array\n",
        "ones_arr=np.ones((2,3))\n",
        "print(\"Ones Array:\\n\",ones_arr)\n",
        "#Range of numbers\n",
        "range_arr=np.arange(2,10,2)\n",
        "print(\"Range Array:\\n\",range_arr)\n",
        "#Randam Array\n",
        "randam_arr=np.random.rand(2,3)\n",
        "print(\"Randam Array:\\n\",randam_arr)"
      ],
      "metadata": {
        "colab": {
          "base_uri": "https://localhost:8080/"
        },
        "id": "68Puqt9pC13j",
        "outputId": "c7685165-ad3b-4ee0-83b0-28f1f2463ceb"
      },
      "execution_count": 32,
      "outputs": [
        {
          "output_type": "stream",
          "name": "stdout",
          "text": [
            "1D Array:\n",
            " [1 2 3 4 5]\n",
            "2D Array:\n",
            " [[1 2 3]\n",
            " [4 5 6]]\n",
            "zeros Array:\n",
            " [[0. 0. 0. 0.]\n",
            " [0. 0. 0. 0.]\n",
            " [0. 0. 0. 0.]]\n",
            "Ones Array:\n",
            " [[1. 1. 1.]\n",
            " [1. 1. 1.]]\n",
            "Range Array:\n",
            " [2 4 6 8]\n",
            "Randam Array:\n",
            " [[0.30364828 0.39926152 0.31219068]\n",
            " [0.80754098 0.12743428 0.65176963]]\n"
          ]
        }
      ]
    },
    {
      "cell_type": "code",
      "source": [
        "#Array Attributes\n",
        "arr=np.array([[1,2,3],[4,5,6]])\n",
        "print(\"Array:\\n\",arr)\n",
        "print(\"Shape:\",arr.shape)\n",
        "print(\"Dimension:\",arr.ndim)\n",
        "print(\"Size:\",arr.size)\n",
        "print(\"Data Type:\",arr.dtype)\n",
        "print(\"Item Size:\",arr.itemsize)"
      ],
      "metadata": {
        "colab": {
          "base_uri": "https://localhost:8080/"
        },
        "id": "YBEhBLQNGbyX",
        "outputId": "712aa5ae-c328-44a4-d164-7579083682be"
      },
      "execution_count": 35,
      "outputs": [
        {
          "output_type": "stream",
          "name": "stdout",
          "text": [
            "Array:\n",
            " [[1 2 3]\n",
            " [4 5 6]]\n",
            "Shape: (2, 3)\n",
            "Dimension: 2\n",
            "Size: 6\n",
            "Data Type: int64\n",
            "Item Size: 8\n"
          ]
        }
      ]
    },
    {
      "cell_type": "code",
      "source": [
        "#Array Indexing and Slicing\n",
        "arr=np.array([10,20,30,40,50])\n",
        "print(\"Array:\",arr)\n",
        "print(\"First Element:\",arr[0])\n",
        "print(\"Last Element:\",arr[-1])\n",
        "print(\"Slice:\",arr[1:4])\n",
        "print(\"Every second element\",arr[::2])\n",
        "#2D indexing\n",
        "arr2=np.array([[1,2,3],[4,5,6]])\n",
        "print(\"Array:\\n\",arr2)\n",
        "print(\"Element at row 1,col 2 :\",arr2[0,1])\n",
        "print(\"second row\",arr2[1,:])\n",
        "print(\"second column\",arr2[:,1])"
      ],
      "metadata": {
        "colab": {
          "base_uri": "https://localhost:8080/"
        },
        "id": "5hisoTTWIEP3",
        "outputId": "a35020d8-f91b-4b8b-caa5-c670b3ebaf62"
      },
      "execution_count": 38,
      "outputs": [
        {
          "output_type": "stream",
          "name": "stdout",
          "text": [
            "Array: [10 20 30 40 50]\n",
            "First Element: 10\n",
            "Last Element: 50\n",
            "Slice: [20 30 40]\n",
            "Every second element [10 30 50]\n",
            "Array:\n",
            " [[1 2 3]\n",
            " [4 5 6]]\n",
            "Element at row 1,col 2 : 2\n",
            "second row [4 5 6]\n",
            "second column [2 5]\n"
          ]
        }
      ]
    },
    {
      "cell_type": "code",
      "source": [
        "#Array Operations\n",
        "#Arithmetic Operations\n",
        "a=np.array([1,2,3])\n",
        "b=np.array([4,5,6])\n",
        "print(\"Addition:\",a+b)\n",
        "print(\"Subtraction:\",a-b)\n",
        "print(\"Multiplication:\",a*b)\n",
        "print(\"Division:\",a/b)\n",
        "print(\"Power:\",a**2)\n",
        "#Mathematical Functions\n",
        "arr=np.array([0,np.pi/2,np.pi])\n",
        "print(\"Sin:\",np.sin(arr))\n",
        "print(\"Cos:\",np.cos(arr))\n",
        "print(\"Tan:\",np.tan(arr))\n",
        "print(\"Exp:\",np.exp(arr))\n",
        "print(\"Sqrt:\",np.sqrt(arr))"
      ],
      "metadata": {
        "colab": {
          "base_uri": "https://localhost:8080/"
        },
        "id": "Ejw5sbUPPp11",
        "outputId": "4f8e1866-39de-406d-824b-89454b352332"
      },
      "execution_count": 41,
      "outputs": [
        {
          "output_type": "stream",
          "name": "stdout",
          "text": [
            "Addition: [5 7 9]\n",
            "Subtraction: [-3 -3 -3]\n",
            "Multiplication: [ 4 10 18]\n",
            "Division: [0.25 0.4  0.5 ]\n",
            "Power: [1 4 9]\n",
            "Sin: [0.0000000e+00 1.0000000e+00 1.2246468e-16]\n",
            "Cos: [ 1.000000e+00  6.123234e-17 -1.000000e+00]\n",
            "Tan: [ 0.00000000e+00  1.63312394e+16 -1.22464680e-16]\n",
            "Exp: [ 1.          4.81047738 23.14069263]\n",
            "Sqrt: [0.         1.25331414 1.77245385]\n"
          ]
        }
      ]
    },
    {
      "cell_type": "code",
      "source": [
        "#aggregate Functions\n",
        "arr=np.array([[1,2,3],[4,5,6]])\n",
        "print(\"Array:\\n\",arr)\n",
        "print(\"Sum:\",np.sum(arr))\n",
        "print(\"Min:\",np.min(arr))\n",
        "print(\"Max:\",np.max(arr))\n",
        "print(\"Mean:\",np.mean(arr))\n",
        "print(\"Median:\",np.median(arr))\n",
        "print(\"Standard Deviation:\",np.std(arr))\n",
        "print(\"Sum along axis 0:\",np.sum(arr,axis=0)) #column wise sum\n",
        "print(\"Sum along axis 1:\",np.sum(arr,axis=1)) #row wise sum"
      ],
      "metadata": {
        "colab": {
          "base_uri": "https://localhost:8080/"
        },
        "id": "HghOZmMPRFq1",
        "outputId": "91dc2551-80cf-41cd-f956-8df580bf0beb"
      },
      "execution_count": 42,
      "outputs": [
        {
          "output_type": "stream",
          "name": "stdout",
          "text": [
            "Array:\n",
            " [[1 2 3]\n",
            " [4 5 6]]\n",
            "Sum: 21\n",
            "Min: 1\n",
            "Max: 6\n",
            "Mean: 3.5\n",
            "Median: 3.5\n",
            "Standard Deviation: 1.707825127659933\n",
            "Sum along axis 0: [5 7 9]\n",
            "Sum along axis 1: [ 6 15]\n"
          ]
        }
      ]
    },
    {
      "cell_type": "code",
      "source": [
        "#Broadcasting\n",
        "# it allows operationson arrays of different shapes\n",
        "a=np.array([1,2,3])\n",
        "b=5\n",
        "print(\"Add scalar to array:\",a+b)\n",
        "c=np.array([[1],[2],[3]])\n",
        "d=np.array([4,5,6])\n",
        "print(\"Broadcasted sum\\n:\",c+d)"
      ],
      "metadata": {
        "colab": {
          "base_uri": "https://localhost:8080/"
        },
        "id": "a07q-IitSF4-",
        "outputId": "574fc9e8-70e4-4f30-d7cd-a77069fe95ea"
      },
      "execution_count": 45,
      "outputs": [
        {
          "output_type": "stream",
          "name": "stdout",
          "text": [
            "Add scalar to array: [6 7 8]\n",
            "Broadcasted sum\n",
            ": [[5 6 7]\n",
            " [6 7 8]\n",
            " [7 8 9]]\n"
          ]
        }
      ]
    },
    {
      "cell_type": "code",
      "source": [
        "#Matrix Operations\n",
        "A=np.array([[1,2],[3,4]])\n",
        "B=np.array([[5,6],[7,8]])l\n",
        "print(\"Matrix Multiplication:\\n\",np.dot(A,B))\n",
        "print(\"Matrix Transpose:\\n\",A.T)\n",
        "print(\"Matrix Inverse:\\n\",np.linalg.inv(A))\n",
        "print(\"Matrix Determinant:\\n\",np.linalg.det(A))"
      ],
      "metadata": {
        "colab": {
          "base_uri": "https://localhost:8080/"
        },
        "id": "KlA2oH8dT6Rx",
        "outputId": "4a399c11-977a-4d61-ff99-85f675e0efe1"
      },
      "execution_count": 46,
      "outputs": [
        {
          "output_type": "stream",
          "name": "stdout",
          "text": [
            "Matrix Multiplication:\n",
            " [[19 22]\n",
            " [43 50]]\n",
            "Matrix Transpose:\n",
            " [[1 3]\n",
            " [2 4]]\n",
            "Matrix Inverse:\n",
            " [[-2.   1. ]\n",
            " [ 1.5 -0.5]]\n",
            "Matrix Determinant:\n",
            " -2.0000000000000004\n"
          ]
        }
      ]
    },
    {
      "cell_type": "code",
      "source": [
        "#Sample Program - Student Analsis\n",
        "import numpy as np\n",
        "# Marks of students in 3 subjects\n",
        "marks = np.array([\n",
        "[85, 90, 88],\n",
        "[78, 81, 85],\n",
        "[92, 89, 95]S\n",
        "])\n",
        "print(\"Average marks per student:\", np.mean(marks, axis=1))\n",
        "print(\"Average marks per subject:\", np.mean(marks, axis=0))\n",
        "print(\"Highest marks in each subject:\", np.max(marks, axis=0))\n",
        "print(\"Lowest marks in each subject:\", np.min(marks, axis=0))"
      ],
      "metadata": {
        "colab": {
          "base_uri": "https://localhost:8080/"
        },
        "id": "AlSnE4hjVUtd",
        "outputId": "879cbba3-f3b0-4a60-86e3-cdf2c5d24e56"
      },
      "execution_count": 47,
      "outputs": [
        {
          "output_type": "stream",
          "name": "stdout",
          "text": [
            "Average marks per student: [87.66666667 81.33333333 92.        ]\n",
            "Average marks per subject: [85.         86.66666667 89.33333333]\n",
            "Highest marks in each subject: [92 90 95]\n",
            "Lowest marks in each subject: [78 81 85]\n"
          ]
        }
      ]
    },
    {
      "cell_type": "code",
      "source": [],
      "metadata": {
        "id": "9WVbDXT9cup0"
      },
      "execution_count": null,
      "outputs": []
    }
  ]
}