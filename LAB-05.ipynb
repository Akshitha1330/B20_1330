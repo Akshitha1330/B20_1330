{
  "nbformat": 4,
  "nbformat_minor": 0,
  "metadata": {
    "colab": {
      "provenance": [],
      "authorship_tag": "ABX9TyPKFi8IH9owguOGyW96EZqM",
      "include_colab_link": true
    },
    "kernelspec": {
      "name": "python3",
      "display_name": "Python 3"
    },
    "language_info": {
      "name": "python"
    }
  },
  "cells": [
    {
      "cell_type": "markdown",
      "metadata": {
        "id": "view-in-github",
        "colab_type": "text"
      },
      "source": [
        "<a href=\"https://colab.research.google.com/github/Akshitha1330/B20_1330/blob/main/LAB-05.ipynb\" target=\"_parent\"><img src=\"https://colab.research.google.com/assets/colab-badge.svg\" alt=\"Open In Colab\"/></a>"
      ]
    },
    {
      "cell_type": "code",
      "execution_count": 13,
      "metadata": {
        "colab": {
          "base_uri": "https://localhost:8080/"
        },
        "id": "5c1IvlF0DxRR",
        "outputId": "dc6da292-a31b-4317-e02e-6ad8bc6ce947"
      },
      "outputs": [
        {
          "output_type": "stream",
          "name": "stdout",
          "text": [
            "Original Dataframe\n",
            "    Name   Age  Marks\n",
            "0   Ravi  25.0   85.0\n",
            "1   Neha   NaN   90.0\n",
            "2  Kiran  30.0    NaN\n",
            "3   Sita  28.0   92.0\n",
            "\n",
            " Check for Missing Values:\n",
            "    Name    Age  Marks\n",
            "0  False  False  False\n",
            "1  False   True  False\n",
            "2  False  False   True\n",
            "3  False  False  False\n"
          ]
        }
      ],
      "source": [
        "#detecting missing values\n",
        "import pandas as pd\n",
        "import numpy as np\n",
        "#creating dataset with missing values\n",
        "data={'Name':['Ravi','Neha','Kiran','Sita'],\n",
        "      'Age':[25,np.nan,30,28],\n",
        "      'Marks':[85,90,np.nan,92]}\n",
        "df=pd.DataFrame(data)\n",
        "print(\"Original Dataframe\")\n",
        "print(df)\n",
        "#Detect missing values\n",
        "print(\"\\n Check for Missing Values:\")\n",
        "print(df.isnull())"
      ]
    },
    {
      "cell_type": "code",
      "source": [
        "#droping missing values\n",
        "print(\"\\n Drop Missing Values:\")\n",
        "print(df.dropna())"
      ],
      "metadata": {
        "colab": {
          "base_uri": "https://localhost:8080/"
        },
        "id": "2qhfiQfnGglb",
        "outputId": "0c12362b-a11f-4387-9774-c2e046b7e958"
      },
      "execution_count": 14,
      "outputs": [
        {
          "output_type": "stream",
          "name": "stdout",
          "text": [
            "\n",
            " Drop Missing Values:\n",
            "   Name   Age  Marks\n",
            "0  Ravi  25.0   85.0\n",
            "3  Sita  28.0   92.0\n"
          ]
        }
      ]
    },
    {
      "cell_type": "code",
      "source": [
        "data={'Name':['Ravi','Neha','Kiran','Sita'],\n",
        "      'Age':[25,np.nan,30,28],\n",
        "      'Marks':[85,90,np.nan,92]}\n",
        "df=pd.DataFrame(data)\n",
        "print(\"Original Dataframe\")\n",
        "print(df)\n",
        "#filling missing values with 0\n",
        "print(\"\\n Fill Missing Values:\")\n",
        "print(df.fillna(0))"
      ],
      "metadata": {
        "colab": {
          "base_uri": "https://localhost:8080/"
        },
        "id": "xP1yYtZlJFw0",
        "outputId": "f74d10b5-5151-40b2-83d2-7be41be77cc9"
      },
      "execution_count": 17,
      "outputs": [
        {
          "output_type": "stream",
          "name": "stdout",
          "text": [
            "Original Dataframe\n",
            "    Name   Age  Marks\n",
            "0   Ravi  25.0   85.0\n",
            "1   Neha   NaN   90.0\n",
            "2  Kiran  30.0    NaN\n",
            "3   Sita  28.0   92.0\n",
            "\n",
            " Fill Missing Values:\n",
            "    Name   Age  Marks\n",
            "0   Ravi  25.0   85.0\n",
            "1   Neha   0.0   90.0\n",
            "2  Kiran  30.0    0.0\n",
            "3   Sita  28.0   92.0\n"
          ]
        }
      ]
    },
    {
      "cell_type": "code",
      "source": [
        "print(\"\\n Fill Missing Values with Mean:\")\n",
        "df['Age']=df['Age'].fillna(df['Age'].mean())\n",
        "print(df['Age'])\n",
        "df['Marks']=df['Marks'].fillna(df['Marks'].mean())\n",
        "print(df['Marks'])\n",
        "print(df)"
      ],
      "metadata": {
        "colab": {
          "base_uri": "https://localhost:8080/"
        },
        "id": "UnzF8xMNIwDP",
        "outputId": "ed297b4c-523e-46bb-b45d-02417d056d97"
      },
      "execution_count": 19,
      "outputs": [
        {
          "output_type": "stream",
          "name": "stdout",
          "text": [
            "\n",
            " Fill Missing Values with Mean:\n",
            "0    25.000000\n",
            "1    27.666667\n",
            "2    30.000000\n",
            "3    28.000000\n",
            "Name: Age, dtype: float64\n",
            "0    85.0\n",
            "1    90.0\n",
            "2    89.0\n",
            "3    92.0\n",
            "Name: Marks, dtype: float64\n",
            "    Name        Age  Marks\n",
            "0   Ravi  25.000000   85.0\n",
            "1   Neha  27.666667   90.0\n",
            "2  Kiran  30.000000   89.0\n",
            "3   Sita  28.000000   92.0\n"
          ]
        }
      ]
    },
    {
      "cell_type": "code",
      "source": [
        "#removing duplicates\n",
        "data={'name':['ravi','neha','kiran','sita','ravi'],\n",
        "      'age':[25,25,30,28,25],\n",
        "      'marks':[85,90,90,92,90]}\n",
        "df=pd.DataFrame(data)\n",
        "print(\"original dataframe\")\n",
        "print(df)\n",
        "#removing duplicates\n",
        "print(\"after removing duplicates\")\n",
        "df_no_duplicates=df.drop_duplicates('age')\n",
        "print(df_no_duplicates)\n",
        "print(\"after removing duplicates\")\n",
        "df_no_duplicates=df.drop_duplicates('name')\n",
        "print(df_no_duplicates)\n",
        "print(\"after removing duplicates\")\n",
        "df_no_duplicates=df.drop_duplicates('marks')\n",
        "print(df_no_duplicates)"
      ],
      "metadata": {
        "colab": {
          "base_uri": "https://localhost:8080/"
        },
        "id": "ZEhSWOYzJgE4",
        "outputId": "ac61b4bb-54c6-4d9e-9de9-ada22888a963"
      },
      "execution_count": 22,
      "outputs": [
        {
          "output_type": "stream",
          "name": "stdout",
          "text": [
            "original dataframe\n",
            "    name  age  marks\n",
            "0   ravi   25     85\n",
            "1   neha   25     90\n",
            "2  kiran   30     90\n",
            "3   sita   28     92\n",
            "4   ravi   25     90\n",
            "after removing duplicates\n",
            "    name  age  marks\n",
            "0   ravi   25     85\n",
            "2  kiran   30     90\n",
            "3   sita   28     92\n",
            "after removing duplicates\n",
            "    name  age  marks\n",
            "0   ravi   25     85\n",
            "1   neha   25     90\n",
            "2  kiran   30     90\n",
            "3   sita   28     92\n",
            "after removing duplicates\n",
            "   name  age  marks\n",
            "0  ravi   25     85\n",
            "1  neha   25     90\n",
            "3  sita   28     92\n"
          ]
        }
      ]
    },
    {
      "cell_type": "code",
      "source": [
        "#changing data types\n",
        "data={'ID':['1','2','3','4'],\n",
        "      'Marks':['85','90','92','95']}\n",
        "df=pd.DataFrame(data)\n",
        "print(\"original dataframe\")\n",
        "print(df.dtypes)\n",
        "#convert to numeric\n",
        "df['ID']=pd.to_numeric(df['ID'])\n",
        "df['Marks']=pd.to_numeric(df['Marks'])\n",
        "print(\"after converting data types\")\n",
        "print(df.dtypes)\n",
        "#converting into float\n",
        "df['ID']=df['ID'].astype(float)\n",
        "df['Marks']=df['Marks'].astype(float)\n",
        "print(df.dtypes)"
      ],
      "metadata": {
        "colab": {
          "base_uri": "https://localhost:8080/"
        },
        "id": "0fvP7QoSLgyb",
        "outputId": "3a3ffe17-3d82-4ad5-e26f-81eb1f3d4acb"
      },
      "execution_count": 25,
      "outputs": [
        {
          "output_type": "stream",
          "name": "stdout",
          "text": [
            "original dataframe\n",
            "ID       object\n",
            "Marks    object\n",
            "dtype: object\n",
            "after converting data types\n",
            "ID       int64\n",
            "Marks    int64\n",
            "dtype: object\n",
            "ID       float64\n",
            "Marks    float64\n",
            "dtype: object\n"
          ]
        }
      ]
    },
    {
      "cell_type": "code",
      "source": [
        "#Applying functions\n",
        "df['Marks']=df['Marks'].apply(lambda x:x+5)\n",
        "print(\"After adding bonus Marks:\")\n",
        "print(df)"
      ],
      "metadata": {
        "colab": {
          "base_uri": "https://localhost:8080/"
        },
        "id": "Fd9FkwjMM-05",
        "outputId": "7b7ff953-58b3-49df-c321-b3bd9abc60da"
      },
      "execution_count": 26,
      "outputs": [
        {
          "output_type": "stream",
          "name": "stdout",
          "text": [
            "After adding bonus Marks:\n",
            "    ID  Marks\n",
            "0  1.0   90.0\n",
            "1  2.0   95.0\n",
            "2  3.0   97.0\n",
            "3  4.0  100.0\n"
          ]
        }
      ]
    },
    {
      "cell_type": "code",
      "source": [
        "#normalization\n",
        "df['Marks']=df['Marks']/df['Marks'].max()\n",
        "print(\"After normalization:\")\n",
        "print(df)\n",
        "df['Marks_Normalized'] = (df['Marks'] - df['Marks'].min()) / (df['Marks'].max() - df['Marks'].min())\n",
        "print(\"Normalized Marks:\")\n",
        "print(df)"
      ],
      "metadata": {
        "colab": {
          "base_uri": "https://localhost:8080/"
        },
        "id": "HjYTUHoeN_Z8",
        "outputId": "f75167a8-b25f-4b74-c5a1-3912d730446c"
      },
      "execution_count": 28,
      "outputs": [
        {
          "output_type": "stream",
          "name": "stdout",
          "text": [
            "After normalization:\n",
            "    ID  Marks\n",
            "0  1.0   0.90\n",
            "1  2.0   0.95\n",
            "2  3.0   0.97\n",
            "3  4.0   1.00\n",
            "Normalized Marks:\n",
            "    ID  Marks  Marks_Normalized\n",
            "0  1.0   0.90               0.0\n",
            "1  2.0   0.95               0.5\n",
            "2  3.0   0.97               0.7\n",
            "3  4.0   1.00               1.0\n"
          ]
        }
      ]
    },
    {
      "cell_type": "code",
      "source": [
        "#simple merge\n",
        "import pandas as pd\n",
        "# Student Data\n",
        "students = pd.DataFrame({\n",
        "'Student_ID': [101, 102, 103, 104],\n",
        "'Name': ['Ravi', 'Neha', 'Kiran', 'Sita']\n",
        "})\n",
        "# Marks Data\n",
        "marks = pd.DataFrame({\n",
        "'Student_ID': [101, 102, 103, 105],\n",
        "'Marks': [85, 90, 78, 88]})\n",
        "# Merge on Student_ID\n",
        "merged_df = pd.merge(students, marks, on='Student_ID')\n",
        "print(\"Merged DataFrame:\")\n",
        "print(merged_df)\n",
        "# INNER JOIN (default)\n",
        "inner = pd.merge(students, marks, on='Student_ID', how='inner')\n",
        "print(\"Inner Join:\\n\", inner)\n",
        "# LEFT JOIN\n",
        "left = pd.merge(students, marks, on='Student_ID', how='left')\n",
        "print(\"\\nLeft Join:\\n\", left)\n",
        "# RIGHT JOIN\n",
        "right = pd.merge(students, marks, on='Student_ID', how='right')\n",
        "print(\"\\nRight Join:\\n\", right)\n",
        "# OUTER JOIN\n",
        "outer = pd.merge(students, marks, on='Student_ID', how='outer')\n",
        "print(\"\\nOuter Join:\\n\", outer)"
      ],
      "metadata": {
        "colab": {
          "base_uri": "https://localhost:8080/"
        },
        "id": "4ckj2oLfQD9M",
        "outputId": "17afb664-cee1-458a-9f27-865b1932a9f6"
      },
      "execution_count": 30,
      "outputs": [
        {
          "output_type": "stream",
          "name": "stdout",
          "text": [
            "Merged DataFrame:\n",
            "   Student_ID   Name  Marks\n",
            "0         101   Ravi     85\n",
            "1         102   Neha     90\n",
            "2         103  Kiran     78\n",
            "Inner Join:\n",
            "    Student_ID   Name  Marks\n",
            "0         101   Ravi     85\n",
            "1         102   Neha     90\n",
            "2         103  Kiran     78\n",
            "\n",
            "Left Join:\n",
            "    Student_ID   Name  Marks\n",
            "0         101   Ravi   85.0\n",
            "1         102   Neha   90.0\n",
            "2         103  Kiran   78.0\n",
            "3         104   Sita    NaN\n",
            "\n",
            "Right Join:\n",
            "    Student_ID   Name  Marks\n",
            "0         101   Ravi     85\n",
            "1         102   Neha     90\n",
            "2         103  Kiran     78\n",
            "3         105    NaN     88\n",
            "\n",
            "Outer Join:\n",
            "    Student_ID   Name  Marks\n",
            "0         101   Ravi   85.0\n",
            "1         102   Neha   90.0\n",
            "2         103  Kiran   78.0\n",
            "3         104   Sita    NaN\n",
            "4         105    NaN   88.0\n"
          ]
        }
      ]
    },
    {
      "cell_type": "code",
      "source": [
        "#using join()\n",
        "# Student Details (index = Student_ID)\n",
        "students = pd.DataFrame({\n",
        "'Name': ['Ravi', 'Neha', 'Kiran', 'Sita']\n",
        "}, index=[101, 102, 103, 104])\n",
        "# Marks Data (index = Student_ID)\n",
        "marks = pd.DataFrame({\n",
        "'Marks': [85, 90, 78, 88]\n",
        "}, index=[101, 102, 103, 105])\n",
        "#Join based on index\n",
        "joined_df = students.join(marks, how='outer')\n",
        "print(\"Joined DataFrame:\")\n",
        "print(joined_df)"
      ],
      "metadata": {
        "colab": {
          "base_uri": "https://localhost:8080/"
        },
        "id": "iusgeqCpVyb3",
        "outputId": "59fed4da-0555-4b0d-ff44-1aa0c6918394"
      },
      "execution_count": 31,
      "outputs": [
        {
          "output_type": "stream",
          "name": "stdout",
          "text": [
            "Joined DataFrame:\n",
            "      Name  Marks\n",
            "101   Ravi   85.0\n",
            "102   Neha   90.0\n",
            "103  Kiran   78.0\n",
            "104   Sita    NaN\n",
            "105    NaN   88.0\n"
          ]
        }
      ]
    },
    {
      "cell_type": "code",
      "source": [
        "data={'patient_id':[1,2,3,4,5,6,7,8,9,10,11,12,13,14,15,16,17,18,19,20],'Age':[-5,234,43,54,21,33,19,190,23,-8,55,-89,88,56,77,5,8,-99,888,200]}\n",
        "df=pd.DataFrame(data)\n",
        "print(\"original data\")\n",
        "print(df)"
      ],
      "metadata": {
        "colab": {
          "base_uri": "https://localhost:8080/"
        },
        "id": "1OoUMcejc2YL",
        "outputId": "af3e6d04-b1d2-4172-d027-c3b68e925256"
      },
      "execution_count": 32,
      "outputs": [
        {
          "output_type": "stream",
          "name": "stdout",
          "text": [
            "original data\n",
            "    patient_id  Age\n",
            "0            1   -5\n",
            "1            2  234\n",
            "2            3   43\n",
            "3            4   54\n",
            "4            5   21\n",
            "5            6   33\n",
            "6            7   19\n",
            "7            8  190\n",
            "8            9   23\n",
            "9           10   -8\n",
            "10          11   55\n",
            "11          12  -89\n",
            "12          13   88\n",
            "13          14   56\n",
            "14          15   77\n",
            "15          16    5\n",
            "16          17    8\n",
            "17          18  -99\n",
            "18          19  888\n",
            "19          20  200\n"
          ]
        }
      ]
    },
    {
      "cell_type": "code",
      "source": [
        "invalid_ages=df[(df['Age'] < 0 )| (df['Age'] > 120)]\n",
        "print(\"invalid ages\")\n",
        "print(invalid_ages)"
      ],
      "metadata": {
        "colab": {
          "base_uri": "https://localhost:8080/"
        },
        "id": "WBMbOf0hhBK0",
        "outputId": "91384382-acad-43f0-8dea-8b9f6c5d7259"
      },
      "execution_count": 33,
      "outputs": [
        {
          "output_type": "stream",
          "name": "stdout",
          "text": [
            "invalid ages\n",
            "    patient_id  Age\n",
            "0            1   -5\n",
            "1            2  234\n",
            "7            8  190\n",
            "9           10   -8\n",
            "11          12  -89\n",
            "17          18  -99\n",
            "18          19  888\n",
            "19          20  200\n"
          ]
        }
      ]
    },
    {
      "cell_type": "code",
      "source": [
        "invalid_ages=df[df['Age']>0 & (df['Age']<120)]\n",
        "\n",
        "print(\"cleaned data\")\n",
        "print(invalid_ages)"
      ],
      "metadata": {
        "colab": {
          "base_uri": "https://localhost:8080/"
        },
        "id": "qLZpXNVDhEhy",
        "outputId": "d9e02e0c-85ad-49fe-be3f-413ebe28af7f"
      },
      "execution_count": 34,
      "outputs": [
        {
          "output_type": "stream",
          "name": "stdout",
          "text": [
            "cleaned data\n",
            "    patient_id  Age\n",
            "1            2  234\n",
            "2            3   43\n",
            "3            4   54\n",
            "4            5   21\n",
            "5            6   33\n",
            "6            7   19\n",
            "7            8  190\n",
            "8            9   23\n",
            "10          11   55\n",
            "12          13   88\n",
            "13          14   56\n",
            "14          15   77\n",
            "15          16    5\n",
            "16          17    8\n",
            "18          19  888\n",
            "19          20  200\n"
          ]
        }
      ]
    },
    {
      "cell_type": "code",
      "source": [
        "import pandas as pd\n",
        "data = {\n",
        "    \"Patient_ID\": [1, 2, 3, 4, 5, 6, 7],\n",
        "    \"Age\": [25, 34, -5, 130, 45, 120, 200]  # contains invalid ages\n",
        "}\n",
        "df = pd.DataFrame(data)\n",
        "print(\"Original Dataset\")\n",
        "print(df)\n",
        "#condition: Age < 0 or Age > 120\n",
        "outliers = df[(df[\"Age\"] < 0) | (df[\"Age\"] > 120)]\n",
        "print(\"\\nDetected Outliers\")\n",
        "print(outliers)\n",
        "df_cleaned = df[(df[\"Age\"] >= 0) & (df[\"Age\"] <= 120)]\n",
        "print(\"\\nCleaned Dataset\")\n",
        "print(df_cleaned)"
      ],
      "metadata": {
        "colab": {
          "base_uri": "https://localhost:8080/"
        },
        "id": "Ker92G5Ehtg-",
        "outputId": "efa54cc3-4bf5-47f5-e415-8069c5619c08"
      },
      "execution_count": 35,
      "outputs": [
        {
          "output_type": "stream",
          "name": "stdout",
          "text": [
            "Original Dataset\n",
            "   Patient_ID  Age\n",
            "0           1   25\n",
            "1           2   34\n",
            "2           3   -5\n",
            "3           4  130\n",
            "4           5   45\n",
            "5           6  120\n",
            "6           7  200\n",
            "\n",
            "Detected Outliers\n",
            "   Patient_ID  Age\n",
            "2           3   -5\n",
            "3           4  130\n",
            "6           7  200\n",
            "\n",
            "Cleaned Dataset\n",
            "   Patient_ID  Age\n",
            "0           1   25\n",
            "1           2   34\n",
            "4           5   45\n",
            "5           6  120\n"
          ]
        }
      ]
    },
    {
      "cell_type": "code",
      "source": [],
      "metadata": {
        "id": "XWfym7ErlkHG"
      },
      "execution_count": null,
      "outputs": []
    }
  ]
}